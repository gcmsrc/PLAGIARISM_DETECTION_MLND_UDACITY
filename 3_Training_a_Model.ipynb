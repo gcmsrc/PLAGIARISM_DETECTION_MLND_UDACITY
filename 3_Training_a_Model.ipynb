{
 "cells": [
  {
   "cell_type": "markdown",
   "metadata": {},
   "source": [
    "# Plagiarism Detection Model\n",
    "\n",
    "Now that you've created training and test data, you are ready to define and train a model. Your goal in this notebook, will be to train a binary classification model that learns to label an answer file as either plagiarized or not, based on the features you provide the model.\n",
    "\n",
    "This task will be broken down into a few discrete steps:\n",
    "\n",
    "* Upload your data to S3.\n",
    "* Define a binary classification model and a training script.\n",
    "* Train your model and deploy it.\n",
    "* Evaluate your deployed classifier and answer some questions about your approach.\n",
    "\n",
    "To complete this notebook, you'll have to complete all given exercises and answer all the questions in this notebook.\n",
    "> All your tasks will be clearly labeled **EXERCISE** and questions as **QUESTION**.\n",
    "\n",
    "It will be up to you to explore different classification models and decide on a model that gives you the best performance for this dataset.\n",
    "\n",
    "---"
   ]
  },
  {
   "cell_type": "markdown",
   "metadata": {},
   "source": [
    "## Load Data to S3\n",
    "\n",
    "In the last notebook, you should have created two files: a `training.csv` and `test.csv` file with the features and class labels for the given corpus of plagiarized/non-plagiarized text data. \n",
    "\n",
    ">The below cells load in some AWS SageMaker libraries and creates a default bucket. After creating this bucket, you can upload your locally stored data to S3.\n",
    "\n",
    "Save your train and test `.csv` feature files, locally. To do this you can run the second notebook \"2_Plagiarism_Feature_Engineering\" in SageMaker or you can manually upload your files to this notebook using the upload icon in Jupyter Lab. Then you can upload local files to S3 by using `sagemaker_session.upload_data` and pointing directly to where the training data is saved."
   ]
  },
  {
   "cell_type": "code",
   "execution_count": 1,
   "metadata": {},
   "outputs": [],
   "source": [
    "import pandas as pd\n",
    "import boto3\n",
    "import sagemaker"
   ]
  },
  {
   "cell_type": "code",
   "execution_count": 2,
   "metadata": {},
   "outputs": [],
   "source": [
    "\"\"\"\n",
    "DON'T MODIFY ANYTHING IN THIS CELL THAT IS BELOW THIS LINE\n",
    "\"\"\"\n",
    "# session and role\n",
    "sagemaker_session = sagemaker.Session()\n",
    "role = sagemaker.get_execution_role()\n",
    "\n",
    "# create an S3 bucket\n",
    "bucket = sagemaker_session.default_bucket()"
   ]
  },
  {
   "cell_type": "markdown",
   "metadata": {},
   "source": [
    "## EXERCISE: Upload your training data to S3\n",
    "\n",
    "Specify the `data_dir` where you've saved your `train.csv` file. Decide on a descriptive `prefix` that defines where your data will be uploaded in the default S3 bucket. Finally, create a pointer to your training data by calling `sagemaker_session.upload_data` and passing in the required parameters. It may help to look at the [Session documentation](https://sagemaker.readthedocs.io/en/stable/session.html#sagemaker.session.Session.upload_data) or previous SageMaker code examples.\n",
    "\n",
    "You are expected to upload your entire directory. Later, the training script will only access the `train.csv` file."
   ]
  },
  {
   "cell_type": "code",
   "execution_count": 16,
   "metadata": {},
   "outputs": [],
   "source": [
    "# should be the name of directory you created to save your features data\n",
    "data_dir = 'plagiarism_data'\n",
    "\n",
    "# set prefix, a descriptive name for a directory  \n",
    "prefix = 'plagiarism_detection'\n",
    "\n",
    "# upload all data to S3\n",
    "data_loc = sagemaker_session.upload_data(data_dir, bucket=bucket, key_prefix=prefix)"
   ]
  },
  {
   "cell_type": "markdown",
   "metadata": {},
   "source": [
    "### Test cell\n",
    "\n",
    "Test that your data has been successfully uploaded. The below cell prints out the items in your S3 bucket and will throw an error if it is empty. You should see the contents of your `data_dir` and perhaps some checkpoints. If you see any other files listed, then you may have some old model files that you can delete via the S3 console (though, additional files shouldn't affect the performance of model developed in this notebook)."
   ]
  },
  {
   "cell_type": "code",
   "execution_count": 18,
   "metadata": {},
   "outputs": [
    {
     "name": "stdout",
     "output_type": "stream",
     "text": [
      "plagiarism_detection/.ipynb_checkpoints/train-checkpoint.csv\n",
      "plagiarism_detection/test.csv\n",
      "plagiarism_detection/train.csv\n",
      "Test passed!\n"
     ]
    }
   ],
   "source": [
    "\"\"\"\n",
    "DON'T MODIFY ANYTHING IN THIS CELL THAT IS BELOW THIS LINE\n",
    "\"\"\"\n",
    "# confirm that data is in S3 bucket\n",
    "empty_check = []\n",
    "for obj in boto3.resource('s3').Bucket(bucket).objects.all():\n",
    "    empty_check.append(obj.key)\n",
    "    print(obj.key)\n",
    "\n",
    "assert len(empty_check) !=0, 'S3 bucket is empty.'\n",
    "print('Test passed!')"
   ]
  },
  {
   "cell_type": "markdown",
   "metadata": {},
   "source": [
    "---\n",
    "\n",
    "# Modeling\n",
    "\n",
    "Now that you've uploaded your training data, it's time to define and train a model!\n",
    "\n",
    "The type of model you create is up to you. For a binary classification task, you can choose to go one of three routes:\n",
    "* Use a built-in classification algorithm, like LinearLearner.\n",
    "* Define a custom Scikit-learn classifier, a comparison of models can be found [here](https://scikit-learn.org/stable/auto_examples/classification/plot_classifier_comparison.html).\n",
    "* Define a custom PyTorch neural network classifier. \n",
    "\n",
    "It will be up to you to test out a variety of models and choose the best one. Your project will be graded on the accuracy of your final model. \n",
    " \n",
    "---\n",
    "\n",
    "## EXERCISE: Complete a training script \n",
    "\n",
    "To implement a custom classifier, you'll need to complete a `train.py` script. You've been given the folders `source_sklearn` and `source_pytorch` which hold starting code for a custom Scikit-learn model and a PyTorch model, respectively. Each directory has a `train.py` training script. To complete this project **you only need to complete one of these scripts**; the script that is responsible for training your final model.\n",
    "\n",
    "A typical training script:\n",
    "* Loads training data from a specified directory\n",
    "* Parses any training & model hyperparameters (ex. nodes in a neural network, training epochs, etc.)\n",
    "* Instantiates a model of your design, with any specified hyperparams\n",
    "* Trains that model \n",
    "* Finally, saves the model so that it can be hosted/deployed, later\n",
    "\n",
    "### Defining and training a model\n",
    "Much of the training script code is provided for you. Almost all of your work will be done in the `if __name__ == '__main__':` section. To complete a `train.py` file, you will:\n",
    "1. Import any extra libraries you need\n",
    "2. Define any additional model training hyperparameters using `parser.add_argument`\n",
    "2. Define a model in the `if __name__ == '__main__':` section\n",
    "3. Train the model in that same section\n",
    "\n",
    "Below, you can use `!pygmentize` to display an existing `train.py` file. Read through the code; all of your tasks are marked with `TODO` comments. \n",
    "\n",
    "**Note: If you choose to create a custom PyTorch model, you will be responsible for defining the model in the `model.py` file,** and a `predict.py` file is provided. If you choose to use Scikit-learn, you only need a `train.py` file; you may import a classifier from the `sklearn` library."
   ]
  },
  {
   "cell_type": "code",
   "execution_count": 6,
   "metadata": {},
   "outputs": [
    {
     "name": "stdout",
     "output_type": "stream",
     "text": [
      "\u001b[34mfrom\u001b[39;49;00m \u001b[04m\u001b[36m__future__\u001b[39;49;00m \u001b[34mimport\u001b[39;49;00m print_function\n",
      "\n",
      "\u001b[34mimport\u001b[39;49;00m \u001b[04m\u001b[36margparse\u001b[39;49;00m\n",
      "\u001b[34mimport\u001b[39;49;00m \u001b[04m\u001b[36mos\u001b[39;49;00m\n",
      "\u001b[34mimport\u001b[39;49;00m \u001b[04m\u001b[36mpandas\u001b[39;49;00m \u001b[34mas\u001b[39;49;00m \u001b[04m\u001b[36mpd\u001b[39;49;00m\n",
      "\n",
      "\u001b[34mfrom\u001b[39;49;00m \u001b[04m\u001b[36msklearn.externals\u001b[39;49;00m \u001b[34mimport\u001b[39;49;00m joblib\n",
      "\n",
      "\u001b[37m## TODO: Import any additional libraries you need to define a model\u001b[39;49;00m\n",
      "\n",
      "\n",
      "\u001b[37m# Provided model load function\u001b[39;49;00m\n",
      "\u001b[34mdef\u001b[39;49;00m \u001b[32mmodel_fn\u001b[39;49;00m(model_dir):\n",
      "    \u001b[33m\"\"\"Load model from the model_dir. This is the same model that is saved\u001b[39;49;00m\n",
      "\u001b[33m    in the main if statement.\u001b[39;49;00m\n",
      "\u001b[33m    \"\"\"\u001b[39;49;00m\n",
      "    \u001b[34mprint\u001b[39;49;00m(\u001b[33m\"\u001b[39;49;00m\u001b[33mLoading model.\u001b[39;49;00m\u001b[33m\"\u001b[39;49;00m)\n",
      "    \n",
      "    \u001b[37m# load using joblib\u001b[39;49;00m\n",
      "    model = joblib.load(os.path.join(model_dir, \u001b[33m\"\u001b[39;49;00m\u001b[33mmodel.joblib\u001b[39;49;00m\u001b[33m\"\u001b[39;49;00m))\n",
      "    \u001b[34mprint\u001b[39;49;00m(\u001b[33m\"\u001b[39;49;00m\u001b[33mDone loading model.\u001b[39;49;00m\u001b[33m\"\u001b[39;49;00m)\n",
      "    \n",
      "    \u001b[34mreturn\u001b[39;49;00m model\n",
      "\n",
      "\n",
      "\u001b[37m## TODO: Complete the main code\u001b[39;49;00m\n",
      "\u001b[34mif\u001b[39;49;00m \u001b[31m__name__\u001b[39;49;00m == \u001b[33m'\u001b[39;49;00m\u001b[33m__main__\u001b[39;49;00m\u001b[33m'\u001b[39;49;00m:\n",
      "    \n",
      "    \u001b[37m# All of the model parameters and training parameters are sent as arguments\u001b[39;49;00m\n",
      "    \u001b[37m# when this script is executed, during a training job\u001b[39;49;00m\n",
      "    \n",
      "    \u001b[37m# Here we set up an argument parser to easily access the parameters\u001b[39;49;00m\n",
      "    parser = argparse.ArgumentParser()\n",
      "\n",
      "    \u001b[37m# SageMaker parameters, like the directories for training data and saving models; set automatically\u001b[39;49;00m\n",
      "    \u001b[37m# Do not need to change\u001b[39;49;00m\n",
      "    parser.add_argument(\u001b[33m'\u001b[39;49;00m\u001b[33m--output-data-dir\u001b[39;49;00m\u001b[33m'\u001b[39;49;00m, \u001b[36mtype\u001b[39;49;00m=\u001b[36mstr\u001b[39;49;00m, default=os.environ[\u001b[33m'\u001b[39;49;00m\u001b[33mSM_OUTPUT_DATA_DIR\u001b[39;49;00m\u001b[33m'\u001b[39;49;00m])\n",
      "    parser.add_argument(\u001b[33m'\u001b[39;49;00m\u001b[33m--model-dir\u001b[39;49;00m\u001b[33m'\u001b[39;49;00m, \u001b[36mtype\u001b[39;49;00m=\u001b[36mstr\u001b[39;49;00m, default=os.environ[\u001b[33m'\u001b[39;49;00m\u001b[33mSM_MODEL_DIR\u001b[39;49;00m\u001b[33m'\u001b[39;49;00m])\n",
      "    parser.add_argument(\u001b[33m'\u001b[39;49;00m\u001b[33m--data-dir\u001b[39;49;00m\u001b[33m'\u001b[39;49;00m, \u001b[36mtype\u001b[39;49;00m=\u001b[36mstr\u001b[39;49;00m, default=os.environ[\u001b[33m'\u001b[39;49;00m\u001b[33mSM_CHANNEL_TRAIN\u001b[39;49;00m\u001b[33m'\u001b[39;49;00m])\n",
      "    \n",
      "    \u001b[37m## TODO: Add any additional arguments that you will need to pass into your model\u001b[39;49;00m\n",
      "    \n",
      "    \u001b[37m# args holds all passed-in arguments\u001b[39;49;00m\n",
      "    args = parser.parse_args()\n",
      "\n",
      "    \u001b[37m# Read in csv training file\u001b[39;49;00m\n",
      "    training_dir = args.data_dir\n",
      "    train_data = pd.read_csv(os.path.join(training_dir, \u001b[33m\"\u001b[39;49;00m\u001b[33mtrain.csv\u001b[39;49;00m\u001b[33m\"\u001b[39;49;00m), header=\u001b[36mNone\u001b[39;49;00m, names=\u001b[36mNone\u001b[39;49;00m)\n",
      "\n",
      "    \u001b[37m# Labels are in the first column\u001b[39;49;00m\n",
      "    train_y = train_data.iloc[:,\u001b[34m0\u001b[39;49;00m]\n",
      "    train_x = train_data.iloc[:,\u001b[34m1\u001b[39;49;00m:]\n",
      "    \n",
      "    \n",
      "    \u001b[37m## --- Your code here --- ##\u001b[39;49;00m\n",
      "    \n",
      "\n",
      "    \u001b[37m## TODO: Define a model \u001b[39;49;00m\n",
      "    model = \u001b[36mNone\u001b[39;49;00m\n",
      "    \n",
      "    \n",
      "    \u001b[37m## TODO: Train the model\u001b[39;49;00m\n",
      "    \n",
      "    \n",
      "    \n",
      "    \u001b[37m## --- End of your code  --- ##\u001b[39;49;00m\n",
      "    \n",
      "\n",
      "    \u001b[37m# Save the trained model\u001b[39;49;00m\n",
      "    joblib.dump(model, os.path.join(args.model_dir, \u001b[33m\"\u001b[39;49;00m\u001b[33mmodel.joblib\u001b[39;49;00m\u001b[33m\"\u001b[39;49;00m))\n"
     ]
    }
   ],
   "source": [
    "# directory can be changed to: source_sklearn or source_pytorch\n",
    "!pygmentize source_sklearn/train.py"
   ]
  },
  {
   "cell_type": "markdown",
   "metadata": {},
   "source": [
    "### Provided code\n",
    "\n",
    "If you read the code above, you can see that the starter code includes a few things:\n",
    "* Model loading (`model_fn`) and saving code\n",
    "* Getting SageMaker's default hyperparameters\n",
    "* Loading the training data by name, `train.csv` and extracting the features and labels, `train_x`, and `train_y`\n",
    "\n",
    "If you'd like to read more about model saving with [joblib for sklearn](https://scikit-learn.org/stable/modules/model_persistence.html) or with [torch.save](https://pytorch.org/tutorials/beginner/saving_loading_models.html), click on the provided links."
   ]
  },
  {
   "cell_type": "markdown",
   "metadata": {},
   "source": [
    "---\n",
    "# Create an Estimator\n",
    "\n",
    "When a custom model is constructed in SageMaker, an entry point must be specified. This is the Python file which will be executed when the model is trained; the `train.py` function you specified above. To run a custom training script in SageMaker, construct an estimator, and fill in the appropriate constructor arguments:\n",
    "\n",
    "* **entry_point**: The path to the Python script SageMaker runs for training and prediction.\n",
    "* **source_dir**: The path to the training script directory `source_sklearn` OR `source_pytorch`.\n",
    "* **entry_point**: The path to the Python script SageMaker runs for training and prediction.\n",
    "* **source_dir**: The path to the training script directory `train_sklearn` OR `train_pytorch`.\n",
    "* **entry_point**: The path to the Python script SageMaker runs for training.\n",
    "* **source_dir**: The path to the training script directory `train_sklearn` OR `train_pytorch`.\n",
    "* **role**: Role ARN, which was specified, above.\n",
    "* **train_instance_count**: The number of training instances (should be left at 1).\n",
    "* **train_instance_type**: The type of SageMaker instance for training. Note: Because Scikit-learn does not natively support GPU training, Sagemaker Scikit-learn does not currently support training on GPU instance types.\n",
    "* **sagemaker_session**: The session used to train on Sagemaker.\n",
    "* **hyperparameters** (optional): A dictionary `{'name':value, ..}` passed to the train function as hyperparameters.\n",
    "\n",
    "Note: For a PyTorch model, there is another optional argument **framework_version**, which you can set to the latest version of PyTorch, `1.0`.\n",
    "\n",
    "## EXERCISE: Define a Scikit-learn or PyTorch estimator\n",
    "\n",
    "To import your desired estimator, use one of the following lines:\n",
    "```\n",
    "from sagemaker.sklearn.estimator import SKLearn\n",
    "```\n",
    "```\n",
    "from sagemaker.pytorch import PyTorch\n",
    "```"
   ]
  },
  {
   "cell_type": "code",
   "execution_count": 28,
   "metadata": {},
   "outputs": [],
   "source": [
    "\n",
    "# your import and estimator code, here\n",
    "from sagemaker.pytorch import PyTorch\n",
    "\n",
    "output_path = 's3://{}/{}/'.format(bucket, prefix)\n",
    "\n",
    "estimator = PyTorch(entry_point='train.py', \n",
    "                    source_dir='source_pytorch',\n",
    "                    role=role,\n",
    "                    framework_version='1.4.0',\n",
    "                    train_instance_count=1, \n",
    "                    train_instance_type='ml.p2.xlarge', \n",
    "                    output_path=output_path, \n",
    "                    sagemaker_session=sagemaker_session, \n",
    "                    hyperparameters = {\n",
    "                        'epochs' : 100\n",
    "                    })"
   ]
  },
  {
   "cell_type": "markdown",
   "metadata": {},
   "source": [
    "## EXERCISE: Train the estimator\n",
    "\n",
    "Train your estimator on the training data stored in S3. This should create a training job that you can monitor in your SageMaker console."
   ]
  },
  {
   "cell_type": "code",
   "execution_count": 29,
   "metadata": {},
   "outputs": [
    {
     "name": "stdout",
     "output_type": "stream",
     "text": [
      "2020-03-29 14:14:14 Starting - Starting the training job...\n",
      "2020-03-29 14:14:16 Starting - Launching requested ML instances...\n",
      "2020-03-29 14:15:11 Starting - Preparing the instances for training............\n",
      "2020-03-29 14:16:49 Downloading - Downloading input data...\n",
      "2020-03-29 14:17:23 Training - Downloading the training image.........\n",
      "2020-03-29 14:19:05 Training - Training image download completed. Training in progress.\u001b[34mbash: cannot set terminal process group (-1): Inappropriate ioctl for device\u001b[0m\n",
      "\u001b[34mbash: no job control in this shell\u001b[0m\n",
      "\u001b[34m2020-03-29 14:19:06,358 sagemaker-containers INFO     Imported framework sagemaker_pytorch_container.training\u001b[0m\n",
      "\u001b[34m2020-03-29 14:19:06,383 sagemaker_pytorch_container.training INFO     Block until all host DNS lookups succeed.\u001b[0m\n",
      "\u001b[34m2020-03-29 14:19:09,447 sagemaker_pytorch_container.training INFO     Invoking user training script.\u001b[0m\n",
      "\u001b[34m2020-03-29 14:19:09,729 sagemaker-containers INFO     Module default_user_module_name does not provide a setup.py. \u001b[0m\n",
      "\u001b[34mGenerating setup.py\u001b[0m\n",
      "\u001b[34m2020-03-29 14:19:09,729 sagemaker-containers INFO     Generating setup.cfg\u001b[0m\n",
      "\u001b[34m2020-03-29 14:19:09,729 sagemaker-containers INFO     Generating MANIFEST.in\u001b[0m\n",
      "\u001b[34m2020-03-29 14:19:09,729 sagemaker-containers INFO     Installing module with the following command:\u001b[0m\n",
      "\u001b[34m/opt/conda/bin/python -m pip install . \u001b[0m\n",
      "\u001b[34mProcessing /tmp/tmprle4_qvv/module_dir\u001b[0m\n",
      "\u001b[34mBuilding wheels for collected packages: default-user-module-name\n",
      "  Building wheel for default-user-module-name (setup.py): started\n",
      "  Building wheel for default-user-module-name (setup.py): finished with status 'done'\n",
      "  Created wheel for default-user-module-name: filename=default_user_module_name-1.0.0-py2.py3-none-any.whl size=4364 sha256=710bd6c158210c4791bb922dfefb0136d254641eafe9bc7d22f340cb4261bd57\n",
      "  Stored in directory: /tmp/pip-ephem-wheel-cache-q9fqso8g/wheels/24/39/c7/c65e1dc17f91d24d4f23e46f141262faa3d6871b52318a1596\u001b[0m\n",
      "\u001b[34mSuccessfully built default-user-module-name\u001b[0m\n",
      "\u001b[34mInstalling collected packages: default-user-module-name\u001b[0m\n",
      "\u001b[34mSuccessfully installed default-user-module-name-1.0.0\u001b[0m\n",
      "\u001b[34m2020-03-29 14:19:12,151 sagemaker-containers INFO     Invoking user script\n",
      "\u001b[0m\n",
      "\u001b[34mTraining Env:\n",
      "\u001b[0m\n",
      "\u001b[34m{\n",
      "    \"additional_framework_parameters\": {},\n",
      "    \"channel_input_dirs\": {\n",
      "        \"train\": \"/opt/ml/input/data/train\"\n",
      "    },\n",
      "    \"current_host\": \"algo-1\",\n",
      "    \"framework_module\": \"sagemaker_pytorch_container.training:main\",\n",
      "    \"hosts\": [\n",
      "        \"algo-1\"\n",
      "    ],\n",
      "    \"hyperparameters\": {\n",
      "        \"epochs\": 100\n",
      "    },\n",
      "    \"input_config_dir\": \"/opt/ml/input/config\",\n",
      "    \"input_data_config\": {\n",
      "        \"train\": {\n",
      "            \"TrainingInputMode\": \"File\",\n",
      "            \"S3DistributionType\": \"FullyReplicated\",\n",
      "            \"RecordWrapperType\": \"None\"\n",
      "        }\n",
      "    },\n",
      "    \"input_dir\": \"/opt/ml/input\",\n",
      "    \"is_master\": true,\n",
      "    \"job_name\": \"pytorch-training-2020-03-29-14-14-14-567\",\n",
      "    \"log_level\": 20,\n",
      "    \"master_hostname\": \"algo-1\",\n",
      "    \"model_dir\": \"/opt/ml/model\",\n",
      "    \"module_dir\": \"s3://sagemaker-eu-west-1-823657746324/pytorch-training-2020-03-29-14-14-14-567/source/sourcedir.tar.gz\",\n",
      "    \"module_name\": \"train\",\n",
      "    \"network_interface_name\": \"eth0\",\n",
      "    \"num_cpus\": 4,\n",
      "    \"num_gpus\": 1,\n",
      "    \"output_data_dir\": \"/opt/ml/output/data\",\n",
      "    \"output_dir\": \"/opt/ml/output\",\n",
      "    \"output_intermediate_dir\": \"/opt/ml/output/intermediate\",\n",
      "    \"resource_config\": {\n",
      "        \"current_host\": \"algo-1\",\n",
      "        \"hosts\": [\n",
      "            \"algo-1\"\n",
      "        ],\n",
      "        \"network_interface_name\": \"eth0\"\n",
      "    },\n",
      "    \"user_entry_point\": \"train.py\"\u001b[0m\n",
      "\u001b[34m}\n",
      "\u001b[0m\n",
      "\u001b[34mEnvironment variables:\n",
      "\u001b[0m\n",
      "\u001b[34mSM_HOSTS=[\"algo-1\"]\u001b[0m\n",
      "\u001b[34mSM_NETWORK_INTERFACE_NAME=eth0\u001b[0m\n",
      "\u001b[34mSM_HPS={\"epochs\":100}\u001b[0m\n",
      "\u001b[34mSM_USER_ENTRY_POINT=train.py\u001b[0m\n",
      "\u001b[34mSM_FRAMEWORK_PARAMS={}\u001b[0m\n",
      "\u001b[34mSM_RESOURCE_CONFIG={\"current_host\":\"algo-1\",\"hosts\":[\"algo-1\"],\"network_interface_name\":\"eth0\"}\u001b[0m\n",
      "\u001b[34mSM_INPUT_DATA_CONFIG={\"train\":{\"RecordWrapperType\":\"None\",\"S3DistributionType\":\"FullyReplicated\",\"TrainingInputMode\":\"File\"}}\u001b[0m\n",
      "\u001b[34mSM_OUTPUT_DATA_DIR=/opt/ml/output/data\u001b[0m\n",
      "\u001b[34mSM_CHANNELS=[\"train\"]\u001b[0m\n",
      "\u001b[34mSM_CURRENT_HOST=algo-1\u001b[0m\n",
      "\u001b[34mSM_MODULE_NAME=train\u001b[0m\n",
      "\u001b[34mSM_LOG_LEVEL=20\u001b[0m\n",
      "\u001b[34mSM_FRAMEWORK_MODULE=sagemaker_pytorch_container.training:main\u001b[0m\n",
      "\u001b[34mSM_INPUT_DIR=/opt/ml/input\u001b[0m\n",
      "\u001b[34mSM_INPUT_CONFIG_DIR=/opt/ml/input/config\u001b[0m\n",
      "\u001b[34mSM_OUTPUT_DIR=/opt/ml/output\u001b[0m\n",
      "\u001b[34mSM_NUM_CPUS=4\u001b[0m\n",
      "\u001b[34mSM_NUM_GPUS=1\u001b[0m\n",
      "\u001b[34mSM_MODEL_DIR=/opt/ml/model\u001b[0m\n",
      "\u001b[34mSM_MODULE_DIR=s3://sagemaker-eu-west-1-823657746324/pytorch-training-2020-03-29-14-14-14-567/source/sourcedir.tar.gz\u001b[0m\n",
      "\u001b[34mSM_TRAINING_ENV={\"additional_framework_parameters\":{},\"channel_input_dirs\":{\"train\":\"/opt/ml/input/data/train\"},\"current_host\":\"algo-1\",\"framework_module\":\"sagemaker_pytorch_container.training:main\",\"hosts\":[\"algo-1\"],\"hyperparameters\":{\"epochs\":100},\"input_config_dir\":\"/opt/ml/input/config\",\"input_data_config\":{\"train\":{\"RecordWrapperType\":\"None\",\"S3DistributionType\":\"FullyReplicated\",\"TrainingInputMode\":\"File\"}},\"input_dir\":\"/opt/ml/input\",\"is_master\":true,\"job_name\":\"pytorch-training-2020-03-29-14-14-14-567\",\"log_level\":20,\"master_hostname\":\"algo-1\",\"model_dir\":\"/opt/ml/model\",\"module_dir\":\"s3://sagemaker-eu-west-1-823657746324/pytorch-training-2020-03-29-14-14-14-567/source/sourcedir.tar.gz\",\"module_name\":\"train\",\"network_interface_name\":\"eth0\",\"num_cpus\":4,\"num_gpus\":1,\"output_data_dir\":\"/opt/ml/output/data\",\"output_dir\":\"/opt/ml/output\",\"output_intermediate_dir\":\"/opt/ml/output/intermediate\",\"resource_config\":{\"current_host\":\"algo-1\",\"hosts\":[\"algo-1\"],\"network_interface_name\":\"eth0\"},\"user_entry_point\":\"train.py\"}\u001b[0m\n",
      "\u001b[34mSM_USER_ARGS=[\"--epochs\",\"100\"]\u001b[0m\n",
      "\u001b[34mSM_OUTPUT_INTERMEDIATE_DIR=/opt/ml/output/intermediate\u001b[0m\n",
      "\u001b[34mSM_CHANNEL_TRAIN=/opt/ml/input/data/train\u001b[0m\n",
      "\u001b[34mSM_HP_EPOCHS=100\u001b[0m\n",
      "\u001b[34mPYTHONPATH=/opt/ml/code:/opt/conda/bin:/opt/conda/lib/python36.zip:/opt/conda/lib/python3.6:/opt/conda/lib/python3.6/lib-dynload:/opt/conda/lib/python3.6/site-packages\n",
      "\u001b[0m\n",
      "\u001b[34mInvoking script with the following command:\n",
      "\u001b[0m\n",
      "\u001b[34m/opt/conda/bin/python train.py --epochs 100\n",
      "\n",
      "\u001b[0m\n",
      "\u001b[34mUsing device cuda.\u001b[0m\n",
      "\u001b[34m/opt/conda/lib/python3.6/site-packages/torch/nn/modules/loss.py:498: UserWarning: Using a target size (torch.Size([10])) that is different to the input size (torch.Size([10, 1])) is deprecated. Please ensure they have the same size.\u001b[0m\n",
      "\u001b[34mGet train data loader.\n",
      "  return F.binary_cross_entropy(input, target, weight=self.weight, reduction=self.reduction)\u001b[0m\n",
      "\u001b[34m[2020-03-29 14:19:17.342 algo-1:43 INFO json_config.py:90] Creating hook from json_config at /opt/ml/input/config/debughookconfig.json.\u001b[0m\n",
      "\u001b[34mERROR:root:'NoneType' object has no attribute 'write'\u001b[0m\n",
      "\u001b[34m[2020-03-29 14:19:17.342 algo-1:43 INFO hook.py:170] tensorboard_dir has not been set for the hook. SMDebug will not be exporting tensorboard summaries.\u001b[0m\n",
      "\u001b[34m[2020-03-29 14:19:17.342 algo-1:43 INFO hook.py:215] Saving to /opt/ml/output/tensors\u001b[0m\n",
      "\u001b[34m[2020-03-29 14:19:17.355 algo-1:43 INFO hook.py:351] Monitoring the collections: losses\u001b[0m\n",
      "\u001b[34mEpoch: 1, Loss: 0.7068337457520621\u001b[0m\n",
      "\u001b[34mEpoch: 2, Loss: 0.6853089417730059\u001b[0m\n",
      "\u001b[34mEpoch: 3, Loss: 0.675014044557299\u001b[0m\n",
      "\u001b[34mEpoch: 4, Loss: 0.6857575263295855\u001b[0m\n",
      "\u001b[34mEpoch: 5, Loss: 0.6872154985155378\u001b[0m\n",
      "\u001b[34mEpoch: 6, Loss: 0.6538276076316833\u001b[0m\n",
      "\u001b[34mEpoch: 7, Loss: 0.6650125128882272\u001b[0m\n",
      "\u001b[34mEpoch: 8, Loss: 0.6422051531927926\u001b[0m\n",
      "\u001b[34mEpoch: 9, Loss: 0.6533160720552716\u001b[0m\n",
      "\u001b[34mEpoch: 10, Loss: 0.6311811293874469\u001b[0m\n",
      "\u001b[34mEpoch: 11, Loss: 0.6462572387286595\u001b[0m\n",
      "\u001b[34mEpoch: 12, Loss: 0.6280111074447632\u001b[0m\n",
      "\u001b[34mEpoch: 13, Loss: 0.6345646466527667\u001b[0m\n",
      "\u001b[34mEpoch: 14, Loss: 0.6281719548361642\u001b[0m\n",
      "\u001b[34mEpoch: 15, Loss: 0.6210128664970398\u001b[0m\n",
      "\u001b[34mEpoch: 16, Loss: 0.6417953031403678\u001b[0m\n",
      "\u001b[34mEpoch: 17, Loss: 0.6239377175058637\u001b[0m\n",
      "\u001b[34mEpoch: 18, Loss: 0.6176155890737262\u001b[0m\n",
      "\u001b[34mEpoch: 19, Loss: 0.6328761662755694\u001b[0m\n",
      "\u001b[34mEpoch: 20, Loss: 0.6048595309257507\u001b[0m\n",
      "\u001b[34mEpoch: 21, Loss: 0.5965874535696847\u001b[0m\n",
      "\u001b[34mEpoch: 22, Loss: 0.5996435114315578\u001b[0m\n",
      "\u001b[34mEpoch: 23, Loss: 0.6008935741015843\u001b[0m\n",
      "\u001b[34mEpoch: 24, Loss: 0.6043163793427604\u001b[0m\n",
      "\u001b[34mEpoch: 25, Loss: 0.5889617460114616\u001b[0m\n",
      "\u001b[34mEpoch: 26, Loss: 0.5940358213015965\u001b[0m\n",
      "\u001b[34mEpoch: 27, Loss: 0.5864247296537671\u001b[0m\n",
      "\u001b[34mEpoch: 28, Loss: 0.56828687446458\u001b[0m\n",
      "\u001b[34mEpoch: 29, Loss: 0.5741140246391296\u001b[0m\n",
      "\u001b[34mEpoch: 30, Loss: 0.561578129019056\u001b[0m\n",
      "\u001b[34mEpoch: 31, Loss: 0.5616224237850734\u001b[0m\n",
      "\u001b[34mEpoch: 32, Loss: 0.54035484790802\u001b[0m\n",
      "\u001b[34mEpoch: 33, Loss: 0.5687127539089748\u001b[0m\n",
      "\u001b[34mEpoch: 34, Loss: 0.571770612682615\u001b[0m\n",
      "\u001b[34mEpoch: 35, Loss: 0.5553332992962429\u001b[0m\n",
      "\u001b[34mEpoch: 36, Loss: 0.5517733352524894\u001b[0m\n",
      "\u001b[34mEpoch: 37, Loss: 0.573518088885716\u001b[0m\n",
      "\u001b[34mEpoch: 38, Loss: 0.5417263848440987\u001b[0m\n",
      "\u001b[34mEpoch: 39, Loss: 0.5347410014697483\u001b[0m\n",
      "\u001b[34mEpoch: 40, Loss: 0.569001568215234\u001b[0m\n",
      "\u001b[34mEpoch: 41, Loss: 0.5247890097754342\u001b[0m\n",
      "\u001b[34mEpoch: 42, Loss: 0.5206773366246905\u001b[0m\n",
      "\u001b[34mEpoch: 43, Loss: 0.5289168357849121\u001b[0m\n",
      "\u001b[34mEpoch: 44, Loss: 0.5169710857527596\u001b[0m\n",
      "\u001b[34mEpoch: 45, Loss: 0.5087451594216483\u001b[0m\n",
      "\u001b[34mEpoch: 46, Loss: 0.5155238381453923\u001b[0m\n",
      "\u001b[34mEpoch: 47, Loss: 0.5108040358339038\u001b[0m\n",
      "\u001b[34mEpoch: 48, Loss: 0.4860168056828635\u001b[0m\n",
      "\u001b[34mEpoch: 49, Loss: 0.5174116832869393\u001b[0m\n",
      "\u001b[34mEpoch: 50, Loss: 0.48776804123606\u001b[0m\n",
      "\u001b[34mEpoch: 51, Loss: 0.5205866822174617\u001b[0m\n",
      "\u001b[34mEpoch: 52, Loss: 0.5045367692198072\u001b[0m\n",
      "\u001b[34mEpoch: 53, Loss: 0.5183230553354535\u001b[0m\n",
      "\u001b[34mEpoch: 54, Loss: 0.49174499937466215\u001b[0m\n",
      "\u001b[34mEpoch: 55, Loss: 0.469854474067688\u001b[0m\n",
      "\u001b[34mEpoch: 56, Loss: 0.48073096360479084\u001b[0m\n",
      "\u001b[34mEpoch: 57, Loss: 0.46904884917395456\u001b[0m\n",
      "\u001b[34mEpoch: 58, Loss: 0.46161460876464844\u001b[0m\n",
      "\u001b[34mEpoch: 59, Loss: 0.47285845449992586\u001b[0m\n",
      "\u001b[34mEpoch: 60, Loss: 0.48680431076458525\u001b[0m\n",
      "\u001b[34mEpoch: 61, Loss: 0.4780726262501308\u001b[0m\n",
      "\u001b[34mEpoch: 62, Loss: 0.519929072686604\u001b[0m\n",
      "\u001b[34mEpoch: 63, Loss: 0.4827724141733987\u001b[0m\n",
      "\u001b[34mEpoch: 64, Loss: 0.4669397217886789\u001b[0m\n",
      "\u001b[34mEpoch: 65, Loss: 0.4578074174267905\u001b[0m\n",
      "\u001b[34mEpoch: 66, Loss: 0.48619723320007324\u001b[0m\n",
      "\u001b[34mEpoch: 67, Loss: 0.4841612620013101\u001b[0m\n",
      "\u001b[34mEpoch: 68, Loss: 0.4609648074422564\u001b[0m\n",
      "\u001b[34mEpoch: 69, Loss: 0.4499482938221523\u001b[0m\n",
      "\u001b[34mEpoch: 70, Loss: 0.4693192499024527\u001b[0m\n",
      "\u001b[34m2020-03-29 14:19:20,100 sagemaker-containers INFO     Reporting training SUCCESS\u001b[0m\n",
      "\u001b[34mEpoch: 71, Loss: 0.4623048560959952\u001b[0m\n",
      "\u001b[34mEpoch: 72, Loss: 0.4642175776617868\u001b[0m\n",
      "\u001b[34mEpoch: 73, Loss: 0.4396459886005947\u001b[0m\n",
      "\u001b[34mEpoch: 74, Loss: 0.448627838066646\u001b[0m\n",
      "\u001b[34mEpoch: 75, Loss: 0.43997883796691895\u001b[0m\n",
      "\u001b[34mEpoch: 76, Loss: 0.4388704512800489\u001b[0m\n",
      "\u001b[34mEpoch: 77, Loss: 0.4444124102592468\u001b[0m\n",
      "\u001b[34mEpoch: 78, Loss: 0.43319572721208843\u001b[0m\n",
      "\u001b[34mEpoch: 79, Loss: 0.418965288570949\u001b[0m\n",
      "\u001b[34mEpoch: 80, Loss: 0.43805844868932453\u001b[0m\n",
      "\u001b[34mEpoch: 81, Loss: 0.40483130301748005\u001b[0m\n",
      "\u001b[34mEpoch: 82, Loss: 0.4377102255821228\u001b[0m\n",
      "\u001b[34mEpoch: 83, Loss: 0.40416557022503447\u001b[0m\n",
      "\u001b[34mEpoch: 84, Loss: 0.44504184808049885\u001b[0m\n",
      "\u001b[34mEpoch: 85, Loss: 0.4330868976456778\u001b[0m\n",
      "\u001b[34mEpoch: 86, Loss: 0.4002739574228014\u001b[0m\n",
      "\u001b[34mEpoch: 87, Loss: 0.4098095340388162\u001b[0m\n",
      "\u001b[34mEpoch: 88, Loss: 0.4394298493862152\u001b[0m\n",
      "\u001b[34mEpoch: 89, Loss: 0.41458122645105633\u001b[0m\n",
      "\u001b[34mEpoch: 90, Loss: 0.4418284467288426\u001b[0m\n",
      "\u001b[34mEpoch: 91, Loss: 0.38068329436438425\u001b[0m\n",
      "\u001b[34mEpoch: 92, Loss: 0.4092029801436833\u001b[0m\n",
      "\u001b[34mEpoch: 93, Loss: 0.4249912457806723\u001b[0m\n",
      "\u001b[34mEpoch: 94, Loss: 0.4226066640445164\u001b[0m\n",
      "\u001b[34mEpoch: 95, Loss: 0.37537857038634165\u001b[0m\n",
      "\u001b[34mEpoch: 96, Loss: 0.4052526695387704\u001b[0m\n",
      "\u001b[34mEpoch: 97, Loss: 0.41166695526668\u001b[0m\n",
      "\u001b[34mEpoch: 98, Loss: 0.4498629697731563\u001b[0m\n",
      "\u001b[34mEpoch: 99, Loss: 0.42068941252572195\u001b[0m\n",
      "\u001b[34mEpoch: 100, Loss: 0.3980818731444223\u001b[0m\n",
      "\u001b[34m[2020-03-29 14:19:19.658 algo-1:43 INFO utils.py:25] The end of training job file will not be written for jobs running under SageMaker.\u001b[0m\n",
      "\n",
      "2020-03-29 14:19:28 Uploading - Uploading generated training model\n",
      "2020-03-29 14:19:28 Completed - Training job completed\n",
      "Training seconds: 159\n",
      "Billable seconds: 159\n",
      "CPU times: user 680 ms, sys: 24.9 ms, total: 705 ms\n",
      "Wall time: 5min 42s\n"
     ]
    }
   ],
   "source": [
    "%%time\n",
    "\n",
    "# Train your estimator on S3 training data\n",
    "estimator.fit({'train': data_loc})"
   ]
  },
  {
   "cell_type": "markdown",
   "metadata": {},
   "source": [
    "## EXERCISE: Deploy the trained model\n",
    "\n",
    "After training, deploy your model to create a `predictor`. If you're using a PyTorch model, you'll need to create a trained `PyTorchModel` that accepts the trained `<model>.model_data` as an input parameter and points to the provided `source_pytorch/predict.py` file as an entry point. \n",
    "\n",
    "To deploy a trained model, you'll use `<model>.deploy`, which takes in two arguments:\n",
    "* **initial_instance_count**: The number of deployed instances (1).\n",
    "* **instance_type**: The type of SageMaker instance for deployment.\n",
    "\n",
    "Note: If you run into an instance error, it may be because you chose the wrong training or deployment instance_type. It may help to refer to your previous exercise code to see which types of instances we used."
   ]
  },
  {
   "cell_type": "code",
   "execution_count": 32,
   "metadata": {},
   "outputs": [
    {
     "data": {
      "text/plain": [
       "'s3://sagemaker-eu-west-1-823657746324/plagiarism_detection/pytorch-training-2020-03-29-14-14-14-567/output/model.tar.gz'"
      ]
     },
     "execution_count": 32,
     "metadata": {},
     "output_type": "execute_result"
    }
   ],
   "source": [
    "estimator.model_data"
   ]
  },
  {
   "cell_type": "code",
   "execution_count": 34,
   "metadata": {},
   "outputs": [
    {
     "name": "stdout",
     "output_type": "stream",
     "text": [
      "-------------!CPU times: user 378 ms, sys: 24.7 ms, total: 403 ms\n",
      "Wall time: 6min 32s\n"
     ]
    }
   ],
   "source": [
    "%%time\n",
    "\n",
    "# uncomment, if needed\n",
    "from sagemaker.pytorch import PyTorchModel\n",
    "model = PyTorchModel(model_data=estimator.model_data, \n",
    "                     entry_point='predict.py', \n",
    "                     source_dir='source_pytorch', \n",
    "                     role=role,\n",
    "                     framework_version='1.4.0')\n",
    "\n",
    "# deploy your model to create a predictor\n",
    "predictor = model.deploy(initial_instance_count=1, instance_type='ml.c4.xlarge')"
   ]
  },
  {
   "cell_type": "markdown",
   "metadata": {},
   "source": [
    "---\n",
    "# Evaluating Your Model\n",
    "\n",
    "Once your model is deployed, you can see how it performs when applied to our test data.\n",
    "\n",
    "The provided cell below, reads in the test data, assuming it is stored locally in `data_dir` and named `test.csv`. The labels and features are extracted from the `.csv` file."
   ]
  },
  {
   "cell_type": "code",
   "execution_count": 35,
   "metadata": {},
   "outputs": [],
   "source": [
    "\"\"\"\n",
    "DON'T MODIFY ANYTHING IN THIS CELL THAT IS BELOW THIS LINE\n",
    "\"\"\"\n",
    "import os\n",
    "\n",
    "# read in test data, assuming it is stored locally\n",
    "test_data = pd.read_csv(os.path.join(data_dir, \"test.csv\"), header=None, names=None)\n",
    "\n",
    "# labels are in the first column\n",
    "test_y = test_data.iloc[:,0]\n",
    "test_x = test_data.iloc[:,1:]"
   ]
  },
  {
   "cell_type": "markdown",
   "metadata": {},
   "source": [
    "## EXERCISE: Determine the accuracy of your model\n",
    "\n",
    "Use your deployed `predictor` to generate predicted, class labels for the test data. Compare those to the *true* labels, `test_y`, and calculate the accuracy as a value between 0 and 1.0 that indicates the fraction of test data that your model classified correctly. You may use [sklearn.metrics](https://scikit-learn.org/stable/modules/classes.html#module-sklearn.metrics) for this calculation.\n",
    "\n",
    "**To pass this project, your model should get at least 90% test accuracy.**"
   ]
  },
  {
   "cell_type": "code",
   "execution_count": 38,
   "metadata": {},
   "outputs": [
    {
     "name": "stdout",
     "output_type": "stream",
     "text": [
      "Test passed!\n"
     ]
    }
   ],
   "source": [
    "# First: generate predicted, class labels\n",
    "test_y_preds = predictor.predict(test_x)\n",
    "\n",
    "\n",
    "\"\"\"\n",
    "DON'T MODIFY ANYTHING IN THIS CELL THAT IS BELOW THIS LINE\n",
    "\"\"\"\n",
    "# test that your model generates the correct number of labels\n",
    "assert len(test_y_preds)==len(test_y), 'Unexpected number of predictions.'\n",
    "print('Test passed!')"
   ]
  },
  {
   "cell_type": "code",
   "execution_count": 44,
   "metadata": {},
   "outputs": [
    {
     "name": "stdout",
     "output_type": "stream",
     "text": [
      "1.0\n",
      "\n",
      "Predicted class labels: \n",
      "[[1.]\n",
      " [1.]\n",
      " [1.]\n",
      " [1.]\n",
      " [1.]\n",
      " [1.]\n",
      " [0.]\n",
      " [0.]\n",
      " [0.]\n",
      " [0.]\n",
      " [0.]\n",
      " [0.]\n",
      " [1.]\n",
      " [1.]\n",
      " [1.]\n",
      " [1.]\n",
      " [1.]\n",
      " [1.]\n",
      " [0.]\n",
      " [1.]\n",
      " [0.]\n",
      " [1.]\n",
      " [1.]\n",
      " [0.]\n",
      " [0.]]\n",
      "\n",
      "True class labels: \n",
      "[1 1 1 1 1 1 0 0 0 0 0 0 1 1 1 1 1 1 0 1 0 1 1 0 0]\n"
     ]
    }
   ],
   "source": [
    "# Second: calculate the test accuracy\n",
    "accuracy = sum(test_y_preds.squeeze() == test_y) / len(test_y)\n",
    "\n",
    "print(accuracy)\n",
    "\n",
    "\n",
    "## print out the array of predicted and true labels, if you want\n",
    "print('\\nPredicted class labels: ')\n",
    "print(test_y_preds)\n",
    "print('\\nTrue class labels: ')\n",
    "print(test_y.values)"
   ]
  },
  {
   "cell_type": "markdown",
   "metadata": {},
   "source": [
    "### Question 1: How many false positives and false negatives did your model produce, if any? And why do you think this is?"
   ]
  },
  {
   "cell_type": "code",
   "execution_count": 141,
   "metadata": {},
   "outputs": [
    {
     "name": "stdout",
     "output_type": "stream",
     "text": [
      "Confusion matrix:\n",
      "\n",
      "[[10  0]\n",
      " [ 0 15]]\n"
     ]
    }
   ],
   "source": [
    "from sklearn.metrics import confusion_matrix, accuracy_score\n",
    "\n",
    "print(\"Confusion matrix:\\n\\n{}\".format(confusion_matrix(test_y, test_y_preds)))"
   ]
  },
  {
   "cell_type": "markdown",
   "metadata": {},
   "source": [
    "** Answer**:  \n",
    ">The model did produce neither any false positive nor any false negative. In other words, model accuracy is 100%.  \n",
    "This result seems encouraging, and it is probably due to the relatively simple task I have asked a neural network to accomplish. In addition, the features we have chosen seem to have already a pretty high level of correlation against the label (i.e. whether a document is plagiarised or not)."
   ]
  },
  {
   "cell_type": "markdown",
   "metadata": {},
   "source": [
    "### Question 2: How did you decide on the type of model to use? "
   ]
  },
  {
   "cell_type": "markdown",
   "metadata": {},
   "source": [
    "** Answer**:  \n",
    ">I have decided to use a neural network because this kind of models, without relying on stricter assumptions such as those of Linear models, are capable of generalising almost any function. In other words, using a neural network architecture was a safe option. However, after realising the good performance I was able to obtain, and after having seen that there is a high correlation between our features and the dependent variable, I believe that a linear learner would have performed equally well.  \n",
    "Following Occam's razor, in a more realistic context, I may have gone for an easier to run and easier to interpret model like, for example, a logistic regression (see below)."
   ]
  },
  {
   "cell_type": "code",
   "execution_count": 145,
   "metadata": {},
   "outputs": [
    {
     "name": "stdout",
     "output_type": "stream",
     "text": [
      "Accuracy of logistic regression model: 0.96\n",
      "\n",
      "\n",
      "Confusion matrix of logistic regression model\n",
      "\n",
      "[[10  0]\n",
      " [ 1 14]]\n"
     ]
    }
   ],
   "source": [
    "# Quick example using logistic regression\n",
    "from sklearn.linear_model import LogisticRegression\n",
    "\n",
    "# Import train data\n",
    "train_data = pd.read_csv(os.path.join(data_loc, 'train.csv'), header=None, names=None).values\n",
    "X, y = train_data[:,1:], train_data[:,0]\n",
    "\n",
    "# Initialise and fit model\n",
    "log_model = LogisticRegression(random_state=1, class_weight='balanced', solver='lbfgs')\n",
    "log_model.fit(X,y)\n",
    "\n",
    "# Prediction on test data\n",
    "log_preds = log.predict(test_x)\n",
    "\n",
    "print('Accuracy of logistic regression model: {}'.format(accuracy_score(test_y, log_preds)))\n",
    "print('\\n\\nConfusion matrix of logistic regression model\\n\\n{}'.format(confusion_matrix(test_y, log_preds)))"
   ]
  },
  {
   "cell_type": "markdown",
   "metadata": {},
   "source": [
    "----\n",
    "## EXERCISE: Clean up Resources\n",
    "\n",
    "After you're done evaluating your model, **delete your model endpoint**. You can do this with a call to `.delete_endpoint()`. You need to show, in this notebook, that the endpoint was deleted. Any other resources, you may delete from the AWS console, and you will find more instructions on cleaning up all your resources, below."
   ]
  },
  {
   "cell_type": "code",
   "execution_count": 146,
   "metadata": {},
   "outputs": [],
   "source": [
    "# uncomment and fill in the line below!\n",
    "# <name_of_deployed_predictor>.delete_endpoint()\n",
    "predictor.delete_endpoint()"
   ]
  },
  {
   "cell_type": "markdown",
   "metadata": {},
   "source": [
    "### Deleting S3 bucket\n",
    "\n",
    "When you are *completely* done with training and testing models, you can also delete your entire S3 bucket. If you do this before you are done training your model, you'll have to recreate your S3 bucket and upload your training data again."
   ]
  },
  {
   "cell_type": "code",
   "execution_count": 147,
   "metadata": {},
   "outputs": [
    {
     "data": {
      "text/html": [
       "[{'ResponseMetadata': {'RequestId': 'E31ED1081109A4CC', 'HostId': 'FG7WUVR+bLiAJ4uNtu7p1BZsiby59ru/Y1lOIzofJQH1rpfGwUwa3iYfnCiYTlE5QpkFnOVVJds=', 'HTTPStatusCode': 200, 'HTTPHeaders': {'x-amz-id-2': 'FG7WUVR+bLiAJ4uNtu7p1BZsiby59ru/Y1lOIzofJQH1rpfGwUwa3iYfnCiYTlE5QpkFnOVVJds=', 'x-amz-request-id': 'E31ED1081109A4CC', 'date': 'Sun, 29 Mar 2020 15:19:06 GMT', 'connection': 'close', 'content-type': 'application/xml', 'transfer-encoding': 'chunked', 'server': 'AmazonS3'}, 'RetryAttempts': 0}, 'Deleted': [{'Key': 'plagiarism_detection/pytorch-training-2020-03-29-14-14-14-567/debug-output/collections/000000000/worker_0_collections.json'}, {'Key': 'plagiarism_detection/train.csv'}, {'Key': 'plagiarism_detection/pytorch-training-2020-03-29-14-08-20-542/output/model.tar.gz'}, {'Key': 'plagiarism_detection/pytorch-training-2020-03-29-14-08-20-542/debug-output/index/000000000/000000000000_worker_0.json'}, {'Key': 'plagiarism_detection/pytorch-training-2020-03-29-14-14-14-567/debug-output/index/000000000/000000000000_worker_0.json'}, {'Key': 'plagiarism_detection/pytorch-training-2020-03-29-14-08-20-542/debug-output/events/000000000000/000000000000_worker_0.tfevents'}, {'Key': 'plagiarism_detection/test.csv'}, {'Key': 'plagiarism_detection/pytorch-training-2020-03-29-14-14-14-567/debug-output/events/000000000000/000000000000_worker_0.tfevents'}, {'Key': 'pytorch-training-2020-03-29-14-00-14-787/source/sourcedir.tar.gz'}, {'Key': 'pytorch-training-2020-03-29-14-14-14-567/source/sourcedir.tar.gz'}, {'Key': 'pytorch-training-2020-03-29-13-54-15-321/source/sourcedir.tar.gz'}, {'Key': 'plagiarism_detection/pytorch-training-2020-03-29-14-14-14-567/output/model.tar.gz'}, {'Key': 'plagiarism_detection/pytorch-training-2020-03-29-14-14-14-567/debug-output/index/000000000/000000000500_worker_0.json'}, {'Key': 'pytorch-training-2020-03-29-14-08-20-542/source/sourcedir.tar.gz'}, {'Key': 'pytorch-inference-2020-03-29-14-28-09-575/model.tar.gz'}, {'Key': 'plagiarism_detection/pytorch-training-2020-03-29-14-08-20-542/debug-output/collections/000000000/worker_0_collections.json'}, {'Key': 'plagiarism_detection/pytorch-training-2020-03-29-14-08-20-542/debug-output/training_job_end.ts'}, {'Key': 'plagiarism_detection/pytorch-training-2020-03-29-14-14-14-567/debug-output/training_job_end.ts'}, {'Key': 'plagiarism_detection/.ipynb_checkpoints/train-checkpoint.csv'}, {'Key': 'plagiarism_detection/pytorch-training-2020-03-29-14-14-14-567/debug-output/events/000000000500/000000000500_worker_0.tfevents'}]}]"
      ],
      "text/plain": [
       "[{'ResponseMetadata': {'RequestId': 'E31ED1081109A4CC',\n",
       "   'HostId': 'FG7WUVR+bLiAJ4uNtu7p1BZsiby59ru/Y1lOIzofJQH1rpfGwUwa3iYfnCiYTlE5QpkFnOVVJds=',\n",
       "   'HTTPStatusCode': 200,\n",
       "   'HTTPHeaders': {'x-amz-id-2': 'FG7WUVR+bLiAJ4uNtu7p1BZsiby59ru/Y1lOIzofJQH1rpfGwUwa3iYfnCiYTlE5QpkFnOVVJds=',\n",
       "    'x-amz-request-id': 'E31ED1081109A4CC',\n",
       "    'date': 'Sun, 29 Mar 2020 15:19:06 GMT',\n",
       "    'connection': 'close',\n",
       "    'content-type': 'application/xml',\n",
       "    'transfer-encoding': 'chunked',\n",
       "    'server': 'AmazonS3'},\n",
       "   'RetryAttempts': 0},\n",
       "  'Deleted': [{'Key': 'plagiarism_detection/pytorch-training-2020-03-29-14-14-14-567/debug-output/collections/000000000/worker_0_collections.json'},\n",
       "   {'Key': 'plagiarism_detection/train.csv'},\n",
       "   {'Key': 'plagiarism_detection/pytorch-training-2020-03-29-14-08-20-542/output/model.tar.gz'},\n",
       "   {'Key': 'plagiarism_detection/pytorch-training-2020-03-29-14-08-20-542/debug-output/index/000000000/000000000000_worker_0.json'},\n",
       "   {'Key': 'plagiarism_detection/pytorch-training-2020-03-29-14-14-14-567/debug-output/index/000000000/000000000000_worker_0.json'},\n",
       "   {'Key': 'plagiarism_detection/pytorch-training-2020-03-29-14-08-20-542/debug-output/events/000000000000/000000000000_worker_0.tfevents'},\n",
       "   {'Key': 'plagiarism_detection/test.csv'},\n",
       "   {'Key': 'plagiarism_detection/pytorch-training-2020-03-29-14-14-14-567/debug-output/events/000000000000/000000000000_worker_0.tfevents'},\n",
       "   {'Key': 'pytorch-training-2020-03-29-14-00-14-787/source/sourcedir.tar.gz'},\n",
       "   {'Key': 'pytorch-training-2020-03-29-14-14-14-567/source/sourcedir.tar.gz'},\n",
       "   {'Key': 'pytorch-training-2020-03-29-13-54-15-321/source/sourcedir.tar.gz'},\n",
       "   {'Key': 'plagiarism_detection/pytorch-training-2020-03-29-14-14-14-567/output/model.tar.gz'},\n",
       "   {'Key': 'plagiarism_detection/pytorch-training-2020-03-29-14-14-14-567/debug-output/index/000000000/000000000500_worker_0.json'},\n",
       "   {'Key': 'pytorch-training-2020-03-29-14-08-20-542/source/sourcedir.tar.gz'},\n",
       "   {'Key': 'pytorch-inference-2020-03-29-14-28-09-575/model.tar.gz'},\n",
       "   {'Key': 'plagiarism_detection/pytorch-training-2020-03-29-14-08-20-542/debug-output/collections/000000000/worker_0_collections.json'},\n",
       "   {'Key': 'plagiarism_detection/pytorch-training-2020-03-29-14-08-20-542/debug-output/training_job_end.ts'},\n",
       "   {'Key': 'plagiarism_detection/pytorch-training-2020-03-29-14-14-14-567/debug-output/training_job_end.ts'},\n",
       "   {'Key': 'plagiarism_detection/.ipynb_checkpoints/train-checkpoint.csv'},\n",
       "   {'Key': 'plagiarism_detection/pytorch-training-2020-03-29-14-14-14-567/debug-output/events/000000000500/000000000500_worker_0.tfevents'}]}]"
      ]
     },
     "execution_count": 147,
     "metadata": {},
     "output_type": "execute_result"
    }
   ],
   "source": [
    "# deleting bucket, uncomment lines below\n",
    "\n",
    "bucket_to_delete = boto3.resource('s3').Bucket(bucket)\n",
    "bucket_to_delete.objects.all().delete()"
   ]
  },
  {
   "cell_type": "markdown",
   "metadata": {},
   "source": [
    "### Deleting all your models and instances\n",
    "\n",
    "When you are _completely_ done with this project and do **not** ever want to revisit this notebook, you can choose to delete all of your SageMaker notebook instances and models by following [these instructions](https://docs.aws.amazon.com/sagemaker/latest/dg/ex1-cleanup.html). Before you delete this notebook instance, I recommend at least downloading a copy and saving it, locally."
   ]
  },
  {
   "cell_type": "markdown",
   "metadata": {},
   "source": [
    "---\n",
    "## Further Directions\n",
    "\n",
    "There are many ways to improve or add on to this project to expand your learning or make this more of a unique project for you. A few ideas are listed below:\n",
    "* Train a classifier to predict the *category* (1-3) of plagiarism and not just plagiarized (1) or not (0).\n",
    "* Utilize a different and larger dataset to see if this model can be extended to other types of plagiarism.\n",
    "* Use language or character-level analysis to find different (and more) similarity features.\n",
    "* Write a complete pipeline function that accepts a source text and submitted text file, and classifies the submitted text as plagiarized or not.\n",
    "* Use API Gateway and a lambda function to deploy your model to a web application.\n",
    "\n",
    "These are all just options for extending your work. If you've completed all the exercises in this notebook, you've completed a real-world application, and can proceed to submit your project. Great job!"
   ]
  }
 ],
 "metadata": {
  "kernelspec": {
   "display_name": "conda_pytorch_p36",
   "language": "python",
   "name": "conda_pytorch_p36"
  },
  "language_info": {
   "codemirror_mode": {
    "name": "ipython",
    "version": 3
   },
   "file_extension": ".py",
   "mimetype": "text/x-python",
   "name": "python",
   "nbconvert_exporter": "python",
   "pygments_lexer": "ipython3",
   "version": "3.6.5"
  }
 },
 "nbformat": 4,
 "nbformat_minor": 4
}
